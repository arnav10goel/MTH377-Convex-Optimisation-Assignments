{
 "cells": [
  {
   "attachments": {},
   "cell_type": "markdown",
   "metadata": {},
   "source": [
    "## MTH377 (Convex Optimisation) - Assessment 1\n",
    "\n",
    "\n",
    "\n",
    "\n",
    "\n"
   ]
  },
  {
   "attachments": {},
   "cell_type": "markdown",
   "metadata": {},
   "source": [
    "## Problem 1\n",
    "\n",
    "##### Question 1"
   ]
  },
  {
   "attachments": {},
   "cell_type": "markdown",
   "metadata": {},
   "source": [
    "- The given function f(x) which we want to approximate in the vicinity of x = 1 is: \n",
    "$$ f(x) = x^2 + \\log(x) $$\n",
    "\n",
    "- Calculating f'(x) and f''(x):\n",
    "$$ f'(x) = 2x + 1/x $$\n",
    "$$ f''(x) = 2 - 1/x^2 $$\n",
    "\n",
    "- The Linear Function approximation (Linear Taylor Polynomial) of f(x) in the vicinity of x = a is:\n",
    "\n",
    "$$ P_{1,a}(x) = f(a) + f'(a)(x-a) $$\n",
    "\n",
    "- Thus, P<sub>1,a</sub>(x) = L(x) for the given f(x) is:\n",
    "\n",
    "$$ L(x) = 1 + 3(x-1) $$\n",
    "$$      = 3x-2 $$\n",
    "\n",
    "- Similiarly, the Quadratic Function Approximation (Quadratic Taylor Polynomial) of f(x) in the vicinity of x = a is:\n",
    "\n",
    "$$ P_{2,a}(x) = f(a) + f'(a)(x-a) + (f''(a)/2)(x-a)^2$$\n",
    "\n",
    "- Thus, P<sub>2,a</sub>(x) = Q(x) for the given f(x) is:\n",
    "\n",
    "$$ Q(x) = 1 + 3(x-1) + (1/2)(x-1)^2 $$\n",
    "$$      = 3x-2 + (1/2)(x-1)^2 $$\n",
    "$$      = L(x) + (1/2)(x-1)^2 $$\n",
    "\n",
    "- Therefore in the code given we make three seperate functions f(x), L(x) and Q(x). We make an array containing all values between 0 and 2 and then use every element of this list as an input to these 3 functions.\n",
    "\n",
    "- For each function we have a separate list which has the value of the respective function for the corresponding value of x between 0 and 2.\n",
    "\n",
    "- We then use these arrays with matplotlib to plot our graphs for the 3 functions in the same graph."
   ]
  },
  {
   "cell_type": "code",
   "execution_count": 1,
   "metadata": {},
   "outputs": [
    {
     "data": {
      "image/png": "[encoded data removed]",
      "text/plain": [
       "<Figure size 432x288 with 1 Axes>"
      ]
     },
     "metadata": {
      "needs_background": "light"
     },
     "output_type": "display_data"
    }
   ],
   "source": [
    "import numpy as np\n",
    "import matplotlib.pyplot as plt\n",
    "import math\n",
    "\n",
    "def f(x): # Function for plotting f(x)\n",
    "  return ((x)**2 + math.log(x))\n",
    "\n",
    "# We use numpy.linspace to make an array 'arr' contain values between 0 and 2 with 1000 values. (to ensure smoothness of the plot)\n",
    "arr = np.linspace(0,2,1000)\n",
    "\n",
    "# Initializing the lists to store the values of f(x), L(x) and Q(x) for each value of x between 0 and 2\n",
    "res1 = []\n",
    "resL = []\n",
    "\n",
    "resQ = []\n",
    "\n",
    "def L(x): #Function for plotting the Linear Taylor Polynomial (expression derived above)\n",
    "  return (3*x-2)\n",
    "\n",
    "def Q(x): #Function for plotting the Quadratic Taylor Polynomial (expression derived above)\n",
    "  return (L(x) + ((x-1)**2)/2)\n",
    "\n",
    "for i in arr:\n",
    "  if(i == 0):\n",
    "    res1.append(-math.inf) # This if-condition is added to prevent a domain error when plotting log(x) when x = 0.\n",
    "  else:\n",
    "    res1.append(f(i))\n",
    "\n",
    "# Appending the values of L(x) and Q(x) to the respective lists for each value of x between 0 and 2\n",
    "for i in arr:\n",
    "  resL.append(L(i))\n",
    "\n",
    "for i in arr:\n",
    "  resQ.append(Q(i))\n",
    "\n",
    "\n",
    "# Plotting the graphs of f(x), L(x) and Q(x) using matplotlib.pyplot\n",
    "plt.plot(arr, res1, color = 'red', label = 'f(x) = x^2 + log(x)')\n",
    "plt.plot(arr, resL, color = 'blue', label = 'Linear Taylor Polynomial L(x))')\n",
    "plt.plot(arr, resQ, color = 'green', label = 'Quadratic Taylor Polynomial Q(x)')\n",
    "\n",
    "# Adding labels and legend to the plot\n",
    "plt.title(\"Taylor Polynomial Approximations\")\n",
    "plt.xlabel('x')\n",
    "plt.ylabel('y')\n",
    "\n",
    "# Showing the legend\n",
    "plt.legend()\n",
    "\n",
    "# Showing the plot\n",
    "plt.show()"
   ]
  },
  {
   "attachments": {},
   "cell_type": "markdown",
   "metadata": {},
   "source": [
    "- We see that for the plot, in the vicinity of x = 1, the approximations hold true and give a very accurate value for f(x).\n",
    "\n",
    "### Question 2\n",
    "\n"
   ]
  },
  {
   "attachments": {},
   "cell_type": "markdown",
   "metadata": {},
   "source": [
    "- The error associated with the linear approximation (e<sub>L</sub>(x)) is given by:\n",
    "$$ e_L(x) = f(x) - L(x) $$\n",
    "\n",
    "- Therefore the expression for e<sub>L</sub>(x) is as follows:\n",
    "$$ \n",
    "e_L(x) = x^2 + \\log(x) - (3x-2)\n",
    "       = x^2 + \\log(x) - 3x + 2\n",
    "$$\n",
    "\n",
    "- We need to plot the following expression:\n",
    "$$ \\frac {e_L(x)}{x-1} $$\n",
    "\n",
    "- We are going to define a function for it. Since we are plotting for x = [0,2], points of discontinuities are x = 0 and x = 1."
   ]
  },
  {
   "attachments": {},
   "cell_type": "markdown",
   "metadata": {},
   "source": [
    "- Therefore taking for x = 0:\n",
    "$$ \n",
    "\\lim_{x \\to 0} \\frac{e_L(x)}{x-1} = \\frac {0 - \\infty - 0 + 2}{-1} = \\infty\n",
    "$$\n",
    "\n",
    "- Therefore taking for x = 1:\n",
    "$$ \n",
    "\\lim_{x \\to 1} \\frac{e_L(x)}{x-1} = \\frac {1 + 0 - 3 + 2}{1 - 1} = \\frac {0}{0}\n",
    "$$\n",
    "- Since this is 0/0 form, we apply L'Hopital's Rule:\n",
    "$$ \n",
    "\\lim_{x \\to 1} \\frac{\\frac{\\partial e_L(x)}{\\partial x}}{\\frac{\\partial (x-1)}{\\partial x}} = \\lim_{x \\to 1} \\frac {2x + 1/x - 3}{1} = 0\n",
    "$$\n"
   ]
  },
  {
   "cell_type": "code",
   "execution_count": 2,
   "metadata": {},
   "outputs": [],
   "source": [
    "# Defining the function eL(x) as defined in the question taking into account the special cases of x = 0 and x = 1 as mentioned above\n",
    "def eL(x):\n",
    "    if(x == 0):\n",
    "        return math.inf\n",
    "    elif(x == 1):\n",
    "        return 0\n",
    "    else:\n",
    "        return (f(x) - L(x))/(x-1)\n",
    "    \n",
    "# Initializing the list to store the values of eL(x) for each value of x between 0 and 2    \n",
    "res_eLx = []\n",
    "\n",
    "# Appending the values of eL(x) to the list for each value of x between 0 and 2 (by using arr created in question 1)\n",
    "for i in arr:\n",
    "    res_eLx.append(eL(i))\n"
   ]
  },
  {
   "attachments": {},
   "cell_type": "markdown",
   "metadata": {},
   "source": [
    "- The error associated with the quadratic approximation (e<sub>Q</sub>(x)) is given by:\n",
    "$$ e_Q(x) = f(x) - Q(x) $$\n",
    "\n",
    "- Therefore the expression for e<sub>L</sub>(x) is as follows:\n",
    "$$ \n",
    "e_Q(x) = x^2 + \\log(x) - [L(x) - (1/2)(x-1)^2]\n",
    "       = x^2 + \\log(x) - 3x + 2 - (1/2)(x-1)^2\n",
    "$$\n",
    "\n",
    "- We need to plot the following expression for x = [0,2]:\n",
    "$$ \\frac {e_Q(x)}{(x-1)^2} $$\n",
    "\n",
    "- We are going to define a function for it. Since we are plotting for x = [0,2], points of discontinuities are x = 0 and x = 1."
   ]
  },
  {
   "attachments": {},
   "cell_type": "markdown",
   "metadata": {},
   "source": [
    "- Therefore taking for x = 0:\n",
    "$$ \n",
    "\\lim_{x \\to 0} \\frac{e_Q(x)}{(x-1)^2} = \\frac {0 - \\infty - 0 + 2 - 0.5}{(-1)^2} = -\\infty\n",
    "$$\n",
    "\n",
    "- Therefore taking for x = 1:\n",
    "$$ \n",
    "\\lim_{x \\to 1} \\frac{e_Q(x)}{(x-1)^2} = \\frac {1 + 0 - 3 + 2 - 0}{1 - 1} = \\frac {0}{0}\n",
    "$$\n",
    "- Since this is 0/0 form, we apply L'Hopital's Rule:\n",
    "$$ \n",
    "\\lim_{x \\to 1} \\frac{\\frac{\\partial^{2} e_Q(x)}{\\partial x^2}}{\\frac{\\partial^{2} (x-1)^2}{\\partial x^2}} = \\lim_{x \\to 1} \\frac {2 - 1/x^2 - 0 - 1}{2} = 0\n",
    "$$"
   ]
  },
  {
   "cell_type": "code",
   "execution_count": 3,
   "metadata": {},
   "outputs": [
    {
     "data": {
      "image/png": "[encoded data removed]",
      "text/plain": [
       "<Figure size 432x288 with 1 Axes>"
      ]
     },
     "metadata": {
      "needs_background": "light"
     },
     "output_type": "display_data"
    }
   ],
   "source": [
    "# Defining the function eQ(x) as defined in the question taking into account the special cases of x = 0 and x = 1 as mentioned above\n",
    "def eQ(x):\n",
    "    if(x == 0):\n",
    "        return (-math.inf)\n",
    "    elif(x == 1):\n",
    "        return 0\n",
    "    else:\n",
    "        return (f(x) - Q(x))/((x-1)**2)\n",
    "\n",
    "# Initializing the list to store the values of eQ(x) for each value of x between 0 and 2\n",
    "res_eQx = []\n",
    "\n",
    "# Appending the values of eQ(x) to the list for each value of x between 0 and 2 (by using arr created in question 1)\n",
    "for i in arr:\n",
    "    res_eQx.append(eQ(i))\n",
    "\n",
    "# Plotting the graphs of eL(x) and eQ(x) using matplotlib.pyplot using the 2 arrays created above\n",
    "# Red indicates the error in the Linear Approximation \n",
    "# Blue indicates the error in the Quadratic Approximation\n",
    "plt.plot(arr, res_eLx, color = 'red', label = 'eL(x)/(x-1)')\n",
    "plt.plot(arr, res_eQx, color = 'blue', label = 'eQ(x)/((x-1)^2)')\n",
    "\n",
    "# Adding labels and legend to the plot\n",
    "plt.title(\"Error in Linear and Quadratic Taylor Polynomial\")\n",
    "plt.xlabel('x')\n",
    "plt.ylabel('y')\n",
    "\n",
    "# Showing the legend\n",
    "plt.legend()\n",
    "\n",
    "# Showing the plot\n",
    "plt.show()\n"
   ]
  }
 ],
 "metadata": {
  "kernelspec": {
   "display_name": "Python 3",
   "language": "python",
   "name": "python3"
  },
  "language_info": {
   "codemirror_mode": {
    "name": "ipython",
    "version": 3
   },
   "file_extension": ".py",
   "mimetype": "text/x-python",
   "name": "python",
   "nbconvert_exporter": "python",
   "pygments_lexer": "ipython3",
   "version": "3.10.0"
  },
  "orig_nbformat": 4,
  "vscode": {
   "interpreter": {
    "hash": "aee8b7b246df8f9039afb4144a1f6fd8d2ca17a180786b69acc140d282b71a49"
   }
  }
 },
 "nbformat": 4,
 "nbformat_minor": 2
}
