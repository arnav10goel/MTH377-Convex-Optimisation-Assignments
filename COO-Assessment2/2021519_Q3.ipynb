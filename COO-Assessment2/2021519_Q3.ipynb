{
 "cells": [
  {
   "attachments": {},
   "cell_type": "markdown",
   "metadata": {},
   "source": [
    "### COO Assessment - Question 3\n",
    "\n",
    "- We are given the Prisoner's Dilemma as a Bargaining Problem\n",
    "- The Prisoners’ Dilemma is a famous model for illustrating the conflict between social cooperation and self-interested behavior.\n",
    "- We first import the necessary packages needed for this problem"
   ]
  },
  {
   "cell_type": "code",
   "execution_count": 1,
   "metadata": {},
   "outputs": [],
   "source": [
    "import numpy as np\n",
    "import pandas as pd\n",
    "import matplotlib.pyplot as plt\n",
    "from scipy.optimize import *\n",
    "from math import *"
   ]
  },
  {
   "attachments": {},
   "cell_type": "markdown",
   "metadata": {},
   "source": [
    "- Consider a two player Prisoners’ Dilemma.\n",
    "- The cooperative payoff possibilities are mathematically described by a polytope which is defined\n",
    "as the convex hull of the payoff vectors (4,4), (6,0), (0,6) and (0,0).\n",
    "- We plot this convex hull for the problem below"
   ]
  },
  {
   "cell_type": "code",
   "execution_count": 2,
   "metadata": {},
   "outputs": [
    {
     "data": {
      "image/png": "[encoded data removed]",
      "text/plain": [
       "<Figure size 432x288 with 1 Axes>"
      ]
     },
     "metadata": {
      "needs_background": "light"
     },
     "output_type": "display_data"
    }
   ],
   "source": [
    "# We are going to model the Prisoner's Dilemma game using CVXPY\n",
    "# The game is played between two players, A and B\n",
    "# We are given that cooperative payoff possibilities are mathematically described by a polytope which is defined as the convex hull of the payoff vectors (4,4), (6,0), (0,6) and (0,0).\n",
    "\n",
    "# Define the payoff vectors\n",
    "payoff_vectors = np.array([[4,4],[6,0],[0,6],[0,0]])\n",
    "\n",
    "# Define the convex hull of the payoff vectors\n",
    "convex_hull = np.array([[0,0],[0,6],[4,4],[6,0]])\n",
    "\n",
    "# Plot the payoff vectors and the convex hull\n",
    "plt.plot(payoff_vectors[:,0], payoff_vectors[:,1], 'o')\n",
    "plt.plot(convex_hull[:,0], convex_hull[:,1], 'r-')\n",
    "plt.xlabel('Player A payoff')\n",
    "plt.ylabel('Player B payoff')\n",
    "plt.title('Convex Hull of the Payoff Vectors')\n",
    "plt.show()"
   ]
  },
  {
   "attachments": {},
   "cell_type": "markdown",
   "metadata": {},
   "source": [
    "- We think of the Prisoner's Dilemma as a Bargaining situation with the disagreement point as $d = (d_1, d_2)$\n",
    "\n",
    "- The notion of a disagreement point introduces a constraint that player $i$ cannot get a payoff below her disagreement point payoff $d_i$\n",
    "\n",
    "- Upon modelling this situation given to us, we are presented with the following constraints:\n",
    "$$\n",
    "u_1 + 2u_2 \\leq 12\n",
    "$$\n",
    "$$\n",
    "u_2 + 2u_1 \\leq 12\n",
    "$$\n",
    "$$\n",
    "u_1 \\geq d_1\n",
    "$$\n",
    "$$\n",
    "u_2 \\geq d_2\n",
    "$$\n",
    "\n",
    "- where $(u_1, u_2)$ is the payoff vectors for the two players in the bargaining situation.\n",
    "- The constraints given above define the feasible set ($F$) for our constrained optimisation problem which we are going to solve in the forthcoming questions."
   ]
  },
  {
   "attachments": {},
   "cell_type": "markdown",
   "metadata": {},
   "source": [
    "#### Question 3\n",
    "\n",
    "- In this question, keeping the feasible set the same we need to maximise the Nash Welfare Criterion defined as:\n",
    "$$\n",
    "N(u_1, u_2) = \\log(u_1-d_1) + \\log(u_2-d_2) \n",
    "$$\n",
    "\n",
    "- The Nash Bargaining Solution of the Bargaining Problem (i.e. our Objective Function) is given by:\n",
    "$$\n",
    "\\max_{(u_1, u_2)} N(u_1, u_2)\n",
    "$$\n",
    "$$\n",
    "such \\space that \\space (u_1, u_2) \\in F\n",
    "$$\n",
    "\n",
    "- The disagreement point given to us is:\n",
    "$$\n",
    "(d_1, d_2) = (2, 1)\n",
    "$$"
   ]
  },
  {
   "cell_type": "code",
   "execution_count": 3,
   "metadata": {},
   "outputs": [],
   "source": [
    "# Initialising the disagreement point given to us\n",
    "d = np.array([2, 1])\n",
    "d1 = d[0]\n",
    "d2 = d[1]"
   ]
  },
  {
   "attachments": {},
   "cell_type": "markdown",
   "metadata": {},
   "source": [
    "- We define the constraints for our problem"
   ]
  },
  {
   "cell_type": "code",
   "execution_count": 4,
   "metadata": {},
   "outputs": [],
   "source": [
    "# We define the constraints for the problem\n",
    "def constraint1(u):\n",
    "    u1 = u[0]\n",
    "    u2 = u[1]\n",
    "    return 12 - u1 - 2*u2 \n",
    "\n",
    "def constraint2(u):\n",
    "    u1 = u[0]\n",
    "    u2 = u[1]\n",
    "    return 12 - 2*u1 - u2 \n",
    "\n",
    "def constraint3(u):\n",
    "    u1 = u[0]\n",
    "    return u1 - d1\n",
    "\n",
    "def constraint4(u):\n",
    "    u2 = u[1]\n",
    "    return u2 - d2"
   ]
  },
  {
   "attachments": {},
   "cell_type": "markdown",
   "metadata": {},
   "source": [
    "#### Log Barrier Technique\n",
    "\n",
    "- Since we are not allowed to use the CVXPY library, we implement the Interior Point Algorithm in this problem to solve our inequality constrained convex optimisation problem described.\n",
    "\n",
    "- The Interior Point Algorithm uses the Log Barrier Method to handle the inequalities.\n",
    "\n",
    "- The Function with the inequalities is written as (where m is the number of inequality constraints):\n",
    "$$\n",
    "B(x) = \\sum_{i=1}^{m} (-(\\log(-f_{i}(x))))\n",
    "$$\n",
    "- where $f_{i}(x) \\leq 0$\n",
    "\n",
    "- If our objective function is defined as $f_{0}(x)$, our combined objective function without any constraints becomes:\n",
    "$$\n",
    "\\phi(x) = t*f_{0}(x) + B(x) \n",
    "$$\n",
    "\n",
    "- In our case, the log barrier function $B(x)$ is equal to:\n",
    "$$\n",
    "B(u_1, u_2) = -[\\log(-(2u_2 + u_1 - 12)) + \\log(-(2u_1 + u_2 - 12)) + \\log(-(d_1 - u_1)) + \\log(-(d_2 - u_2))]\n",
    "$$\n",
    "\n",
    "- Since we use Newton Descent for finding the minimum of a unconstrained function and we find to maximise the Nash Welfare Criterion, we simply minimise its negative. Therefore our objective function becomes:\n",
    "$$\n",
    "\\min_{(u_1, u_2)} \\space -\\log(u_1 - d_1) - \\log(u_2 - d_2)\n",
    "$$\n",
    "\n",
    "- Thus, $f_{0}(u_1, u_2)$ is equal to $-\\log(u_1 - d_1) - \\log(u_2 - d_2)$\n",
    "\n",
    "- Hence our final unconstrained minimisation problem $N(u_1, u_2)$ is:\n",
    "$$\n",
    "\\min_{(u_1, u_2)} \\space t*f_{0}(u_1, u_2) + B(u_1, u_2)\n",
    "$$\n",
    "\n",
    "- We first define this as a function in our code\n"
   ]
  },
  {
   "cell_type": "code",
   "execution_count": 5,
   "metadata": {},
   "outputs": [],
   "source": [
    "# We define the objective function with the inequality constraints handled using the log barrier function\n",
    "def Nash(u, t):\n",
    "    u1 = u[0]\n",
    "    u2 = u[1]\n",
    "\n",
    "    # Try except done to handle negative infinity penalty of the log barrier function\n",
    "    try:\n",
    "        return -(np.log((12-2*u2-u1)*(12-2*u1-u2)*(u1-d1)*(u2-d2))/t) - np.log((u1-d1)*(u2-d2))\n",
    "    except:\n",
    "        return -1e-20"
   ]
  },
  {
   "attachments": {},
   "cell_type": "markdown",
   "metadata": {},
   "source": [
    "- For the gradient, we need expressions for the partial derivates of $N(u_1, u_2)$ wrt $u_1$ and $u_2$:\n",
    "$$\n",
    "\\frac{\\partial N}{\\partial u_1} = \\frac{-1-t}{u_1 - d_1} + \\frac{1}{12 - 2u_2 - u_1} + \\frac{2}{12 - 2u_1 - u_2}\n",
    "$$\n",
    "\n",
    "$$\n",
    "\\frac{\\partial N}{\\partial u_2} = \\frac{-1-t}{u_2 - d_2} + \\frac{2}{12 - 2u_2 - u_1} + \\frac{1}{12 - 2u_1 - u_2}\n",
    "$$\n",
    "\n",
    "- Thus the gradient of f(x,y) is a vector of the form:\n",
    "\n",
    "$$\n",
    "\\nabla N = \\begin{vmatrix} \n",
    "\\frac{\\partial N}{\\partial u_1} \\\\\n",
    "\\\\\n",
    "\\frac{\\partial N}{\\partial u_2}\n",
    "\\end{vmatrix}\n",
    "$$"
   ]
  },
  {
   "cell_type": "code",
   "execution_count": 6,
   "metadata": {},
   "outputs": [],
   "source": [
    "# We define the gradient of the objective function\n",
    "def grad_Nash(u, t):\n",
    "    u1 = u[0]\n",
    "    u2 = u[1]\n",
    "    try:\n",
    "        dg_du1 = ((-1-t)/(u1-d1)) + (1/(12-2*u2-u1)) + (2/(12-2*u1-u2))\n",
    "        dg_du2 = ((-1-t)/(u2-d2)) + (2/(12-2*u2-u1)) + (1/(12-2*u1-u2))\n",
    "    except:\n",
    "        dg_du1 = 1e-20\n",
    "        dg_du2 = 1e-20\n",
    "    \n",
    "    return np.array([dg_du1, dg_du2])"
   ]
  },
  {
   "attachments": {},
   "cell_type": "markdown",
   "metadata": {},
   "source": [
    "- For the Hessian Matrix, we need the double partial derivates with respect to u_1 and u_2. Calculated them as follows:\n",
    "$$ \n",
    "\\frac{\\partial^{2} N}{\\partial u_{1}^2} = \\frac{1+t}{(u_1 - d_1)^{2}} - \\frac{1}{(12 - 2u_2 - u_1)^2} - \\frac{4}{(12 - 2u_1 - u_2)^2} \n",
    "$$\n",
    "\n",
    "$$ \n",
    "\\frac{\\partial^{2} N}{\\partial u_{1}u_{2}} = \\frac{\\partial^{2} N}{\\partial u_{2}u_{1}} = \\frac{-2}{(12 - 2u_2 - u_1)^2} - \\frac{2}{(12 - 2u_1 - u_2)^2} \n",
    "$$\n",
    "\n",
    "$$ \n",
    "\\frac{\\partial^{2} N}{\\partial u_{2}^2} = \\frac{1+t}{(u_2 - d_2)^{2}} - \\frac{4}{(12 - 2u_2 - u_1)^2} - \\frac{1}{(12 - 2u_1 - u_2)^2} \n",
    "$$\n",
    "\n",
    "- Thus the Hessian Matrix of the given function $N(u_1, u_2)$ at any $(u_1, u_2)$ will be:\n",
    "$$\n",
    "H(x,y) = \\begin{vmatrix} \n",
    "\\frac{\\partial^{2} N}{\\partial u_{1}^2}    \\frac{\\partial^{2} N}{\\partial u_{1}u_{2}} \\\\\n",
    "\\\\\n",
    "\\frac{\\partial^{2} N}{\\partial u_{2}u_{1}}     \\frac{\\partial^{2} N}{\\partial u_{2}^2} \n",
    "\\end{vmatrix}"
   ]
  },
  {
   "cell_type": "code",
   "execution_count": 7,
   "metadata": {},
   "outputs": [],
   "source": [
    "# We define the Hessian of the objective function\n",
    "def hess_Nash(u1, u2, t):\n",
    "    try:\n",
    "        d2g_d2u1 = (-1/(12-2*u2-u1)**2) - (4/(12-2*u1-u2)**2) + ((t+1)/((u1-d1)**2))\n",
    "        d2g_d2u2 = (-4/(12-2*u2-u1)**2) - (1/(12-2*u1-u2)**2) + ((t+1)/((u2-d2)**2))\n",
    "        d2g_du1_du2 = -2/(12-2*u2-u1)**2 - 2/(12-2*u1-u2)**2\n",
    "    except:\n",
    "        d2g_d2u1 = 1e-20\n",
    "        d2g_d2u2 = 1e-20\n",
    "        d2g_du1_du2 = 1e-20\n",
    "    \n",
    "    return np.array([[d2g_d2u1, d2g_du1_du2], [d2g_du1_du2, d2g_d2u2]])"
   ]
  },
  {
   "attachments": {},
   "cell_type": "markdown",
   "metadata": {},
   "source": [
    "- We implement the Backtracking Line Search for finding the step-size of the Newton Descent with constants as follows:\n",
    "$$\n",
    "\\alpha = 0.1 \\\\\n",
    "\\beta = 0.3 \\\\\n",
    "\\epsilon = 10^{-5} \\space (tolerance)\n",
    "$$"
   ]
  },
  {
   "cell_type": "code",
   "execution_count": 8,
   "metadata": {},
   "outputs": [],
   "source": [
    "# Defining the Backtracking Line Search\n",
    "def linear_search(d, alpha, beta, point, t):\n",
    "    x = point[0]\n",
    "    y = point[1]\n",
    "    step_size = 1\n",
    "    grad = grad_Nash(x, y, t)\n",
    "    while (Nash(x + step_size*d[0], y + step_size*d[1], t) > Nash(x, y, t) + alpha*beta*step_size*np.dot(grad, d)):\n",
    "        step_size *= beta\n",
    "    return step_size\n"
   ]
  },
  {
   "attachments": {},
   "cell_type": "markdown",
   "metadata": {},
   "source": [
    "- We define the Newton Descent Method"
   ]
  },
  {
   "cell_type": "code",
   "execution_count": 9,
   "metadata": {},
   "outputs": [],
   "source": [
    "# Function to check if a matrix is positive definite\n",
    "def is_pos_def(x):\n",
    "\n",
    "    # For checking if a matrix is positive definite we check if all the eigenvalues are positive (applicable for symmetric matrices)\n",
    "    return np.all(np.linalg.eigvals(x) > 0)\n",
    "\n",
    "# Implementing the Newton Descent Method\n",
    "def newton_descent(x0, y0, t, alpha, beta, epsilon, max_iters):\n",
    "    # Initialize the variables\n",
    "    x = x0\n",
    "    y = y0\n",
    "\n",
    "    #Initializing the loop\n",
    "    while (np.linalg.norm(grad_Nash(x, y, t)) > epsilon) and (max_iters != 0):\n",
    "        \n",
    "        # Compute the gradient\n",
    "        grad = grad_Nash(x, y, t)\n",
    "\n",
    "        # Compute the Hessian\n",
    "        hess = hess_Nash(x, y, t)\n",
    "            \n",
    "        # Combination Descent Condition:\n",
    "        if(is_pos_def(hess)):\n",
    "\n",
    "            # If the Hessian is positive definite, we use the Newton Step\n",
    "            \n",
    "            # Computing the inverse of the Hessian\n",
    "            hess_inverse = np.linalg.inv(hess)\n",
    "\n",
    "            # Computing the Newton Step by taking the negative of the Hessian inverse dotted with the gradient vector\n",
    "            d = -np.dot(hess_inverse, grad)\n",
    "        \n",
    "        else:\n",
    "            \n",
    "            # If the Hessian is not positive definite, we use the Gradient Descent Step which is the negative of the gradient vector\n",
    "            d = -grad\n",
    "        \n",
    "        # Compute the step size\n",
    "        step_size = linear_search(d, alpha, beta, [x,y], t)\n",
    "\n",
    "        # Update the variables\n",
    "        x = x + step_size*d[0]\n",
    "        y = y + step_size*d[1]\n",
    "\n",
    "        # Update the number of iterations\n",
    "        max_iters = max_iters - 1\n",
    "\n",
    "    # Return the solution as a numpy array with the number of iterations it took and the coordinates of the solution point\n",
    "    return np.array([x, y, max_iters])"
   ]
  },
  {
   "attachments": {},
   "cell_type": "markdown",
   "metadata": {},
   "source": [
    "#### Implementation of Interior Point Algorithm\n",
    "- Here we implement the Interior Point Algorithm from scratch.\n",
    "- We pass the initial guess for the primal point as an array:\n",
    "$$\n",
    "u = (u_1, u_2) = (3, 3)\n",
    "$$\n",
    "- We initially choose the following constants:\n",
    "$$\n",
    "t = 1 \\\\\n",
    "\\mu = 15\n",
    "$$\n",
    "\n",
    "- We iterate as we try to solve the minimisation problem with our given initial point and updating $u_1$ and $u_2$ accordingly.\n",
    "\n",
    "- We update the value of $t$ and keep on incrementing till we achieve the KKT optimality conditions which is:\n",
    "$$\n",
    "\\frac{m}{t} < \\epsilon\n",
    "$$\n",
    "- where $\\epsilon$ is the tolerance ($10^{-5}$) and $m$ is the number of inequality constraints i.e. $4$ here."
   ]
  },
  {
   "attachments": {},
   "cell_type": "markdown",
   "metadata": {},
   "source": [
    "- We return the final values of $u_1$, $u_2$ and $t$ from this algorithm"
   ]
  },
  {
   "cell_type": "code",
   "execution_count": 10,
   "metadata": {},
   "outputs": [],
   "source": [
    "# Interior Point Algorithm Implementation\n",
    "def interior_point(u, t, mu, max_iter, tol, m):\n",
    "\n",
    "    # Initialize the primal points\n",
    "    u1 = u[0]\n",
    "    u2 = u[1]\n",
    "\n",
    "    # Iterate until the maximum number of iterations is reached\n",
    "    while(max_iter != 0):\n",
    "\n",
    "        # Check if the accuracy is good enough\n",
    "        if(m / t < tol):\n",
    "            break\n",
    "        \n",
    "        # Prepare the initial guess for the primal points\n",
    "        u = np.array([u1, u2])\n",
    "\n",
    "        # Compute new primal point using Newton Descent Method\n",
    "        #ress = newton_descent(u1, u2, t, 0.1, 0.3, tol, 1000)\n",
    "\n",
    "        res = minimize(Nash, u, args = (t,), method='SLSQP', \n",
    "                                constraints=[{'type': 'ineq', 'fun': constraint1},\n",
    "                                            {'type': 'ineq', 'fun': constraint2},\n",
    "                                            {'type': 'ineq', 'fun': constraint3},\n",
    "                                            {'type': 'ineq', 'fun': constraint4}])\n",
    "\n",
    "        # Update the primal points\n",
    "        primal_point = res.x\n",
    "        u1 = primal_point[0]\n",
    "        u2 = primal_point[1]\n",
    "        \n",
    "        # We increase accuracy\n",
    "        t = t*(1 + (1.0)/(10*np.sqrt(mu)))\n",
    "\n",
    "        # Update the number of iterations\n",
    "        max_iter = max_iter - 1\n",
    "    \n",
    "    # Return the solution as a numpy array with the final value of t and the coordinates of the solution point\n",
    "    return np.array([u1, u2, t])\n"
   ]
  },
  {
   "attachments": {},
   "cell_type": "markdown",
   "metadata": {},
   "source": [
    "- Here we define the constants and call the interior point algorithm on them"
   ]
  },
  {
   "cell_type": "code",
   "execution_count": 11,
   "metadata": {},
   "outputs": [
    {
     "name": "stderr",
     "output_type": "stream",
     "text": [
      "/var/folders/c9/s8062nf53sv0b6gfv3ct0lv80000gn/T/ipykernel_83708/3826924504.py:8: RuntimeWarning: divide by zero encountered in log\n",
      "  return -(np.log((12-2*u2-u1)*(12-2*u1-u2)*(u1-d1)*(u2-d2))/t) - np.log((u1-d1)*(u2-d2))\n",
      "/var/folders/c9/s8062nf53sv0b6gfv3ct0lv80000gn/T/ipykernel_83708/3826924504.py:8: RuntimeWarning: invalid value encountered in log\n",
      "  return -(np.log((12-2*u2-u1)*(12-2*u1-u2)*(u1-d1)*(u2-d2))/t) - np.log((u1-d1)*(u2-d2))\n"
     ]
    }
   ],
   "source": [
    "# Initial constants\n",
    "\n",
    "# Maximum number of iterations\n",
    "max_iter = 1000\n",
    "\n",
    "# Tolerance\n",
    "tol = 1e-5\n",
    "\n",
    "# Initial value of t\n",
    "t_init = 1 \n",
    "\n",
    "# Number of constraints\n",
    "m = 4 \n",
    "\n",
    "# Initial values of the primal points\n",
    "u1 = 3\n",
    "u2 = 3\n",
    "u = np.array([u1, u2])\n",
    "\n",
    "# Accuracy multiplier\n",
    "mu = 10 \n",
    "\n",
    "# Call the interior point algorithm\n",
    "solution = interior_point(u, t_init, mu, max_iter, tol, m)"
   ]
  },
  {
   "attachments": {},
   "cell_type": "markdown",
   "metadata": {},
   "source": [
    "- Here we print the initial and final value of $t$"
   ]
  },
  {
   "cell_type": "code",
   "execution_count": 12,
   "metadata": {},
   "outputs": [
    {
     "name": "stdout",
     "output_type": "stream",
     "text": [
      "Initial value of t:  1\n",
      "Final value of t:  408491.17153674125\n"
     ]
    }
   ],
   "source": [
    "# Extract the solution\n",
    "u1 = solution[0]\n",
    "u2 = solution[1]\n",
    "t_final = solution[2]\n",
    "\n",
    "# Initial and Final value of t\n",
    "print(\"Initial value of t: \", t_init)\n",
    "print(\"Final value of t: \", t_final)"
   ]
  },
  {
   "attachments": {},
   "cell_type": "markdown",
   "metadata": {},
   "source": [
    "- Here we print the final bargaining solution for the problem $(u_1, u_2)$:"
   ]
  },
  {
   "cell_type": "code",
   "execution_count": 13,
   "metadata": {},
   "outputs": [
    {
     "name": "stdout",
     "output_type": "stream",
     "text": [
      "The bargaining solution is: \n",
      "u1 =  4.000007900982537\n",
      "u2 =  3.9999722225484375\n"
     ]
    }
   ],
   "source": [
    "# Print the solution\n",
    "print(\"The bargaining solution is: \")\n",
    "print(\"u1 = \", u1)\n",
    "print(\"u2 = \", u2)"
   ]
  },
  {
   "attachments": {},
   "cell_type": "markdown",
   "metadata": {},
   "source": [
    "- The solution for this problem thus is approximately:\n",
    "$$\n",
    "(u_1, u_2) = (4, 4)\n",
    "$$"
   ]
  },
  {
   "attachments": {},
   "cell_type": "markdown",
   "metadata": {},
   "source": [
    "- We put these values in the Nash Welfare Criterion:\n",
    "$$\n",
    "\\log(u_1 - d_1) + \\log(u_2 - d_2)\n",
    "$$\n",
    "- to get the Maximised Nash Welfare or the Primal Optimal Value"
   ]
  },
  {
   "cell_type": "code",
   "execution_count": 14,
   "metadata": {},
   "outputs": [
    {
     "name": "stdout",
     "output_type": "stream",
     "text": [
      "The Maximised Nash Welfare (Primal Optimal Value) is: \n",
      "1.791754160518133\n"
     ]
    }
   ],
   "source": [
    "# The Nash Welfare Criterion\n",
    "print(\"The Maximised Nash Welfare (Primal Optimal Value) is: \")\n",
    "print(log(u1 - d1) + log(u2 - d2))"
   ]
  },
  {
   "attachments": {},
   "cell_type": "markdown",
   "metadata": {},
   "source": [
    "- Thus the maximised Nash Welfare is approximately equal to $1.79$"
   ]
  },
  {
   "attachments": {},
   "cell_type": "markdown",
   "metadata": {},
   "source": [
    "- Here we print the inequality constraint function values at the optimum $(u_1, u_2)$"
   ]
  },
  {
   "cell_type": "code",
   "execution_count": 15,
   "metadata": {},
   "outputs": [
    {
     "name": "stdout",
     "output_type": "stream",
     "text": [
      "Constraint 1: 2u1 + u2 <= 12\n",
      "Constraint 2: u1 + 2u2 <= 12\n",
      "Constraint 3: u1 >= d1\n",
      "Constraint 4: u2 >= d2\n",
      "\n",
      "The constraint values are: \n",
      "Constraint 1:  4.765392058825313e-05\n",
      "Constraint 2:  1.1975486489124165e-05\n",
      "Constraint 3:  2.0000079009825367\n",
      "Constraint 4:  2.9999722225484375\n"
     ]
    }
   ],
   "source": [
    "print(\"Constraint 1: 2u1 + u2 <= 12\")\n",
    "print(\"Constraint 2: u1 + 2u2 <= 12\")\n",
    "print(\"Constraint 3: u1 >= d1\")\n",
    "print(\"Constraint 4: u2 >= d2\")\n",
    "\n",
    "print()\n",
    "# Printing the constraint values\n",
    "print(\"The constraint values are: \")\n",
    "print(\"Constraint 1: \", constraint1((u1, u2)))\n",
    "print(\"Constraint 2: \", constraint2((u1, u2)))\n",
    "print(\"Constraint 3: \", constraint3((u1, u2)))\n",
    "print(\"Constraint 4: \", constraint4((u1, u2)))"
   ]
  },
  {
   "attachments": {},
   "cell_type": "markdown",
   "metadata": {},
   "source": [
    "- The dual optimum variables corresponding to each constraint is given by:\n",
    "$$\n",
    "\\lambda_{i} = \\frac{-1}{t*f_{i}{(x)}}\n",
    "$$\n",
    "\n",
    "- where $f_{i}{(x)}$ refers to the $i^{th}$ inequality constraint as defined above also.\n",
    "- and $t$ refers to final value of $t$ from the Interior Point Algorithm"
   ]
  },
  {
   "cell_type": "code",
   "execution_count": 16,
   "metadata": {},
   "outputs": [
    {
     "name": "stdout",
     "output_type": "stream",
     "text": [
      "The dual optimums are: \n",
      "lambda1 =  0.05137107907600213\n",
      "lambda2 =  0.2044203653057368\n",
      "lambda3 =  1.2240118259623078e-06\n",
      "lambda4 =  8.160186632465232e-07\n"
     ]
    }
   ],
   "source": [
    "# Computing the dual optimums corresponding to each constraint\n",
    "lambda1 = (1)/(t_final*constraint1((u1, u2)))\n",
    "lambda2 = (1)/(t_final*constraint2((u1, u2)))\n",
    "lambda3 = (1)/(t_final*constraint3((u1, u2)))\n",
    "lambda4 = (1)/(t_final*constraint4((u1, u2)))\n",
    "\n",
    "# Printing the dual optimums\n",
    "print(\"The dual optimums are: \")\n",
    "print(\"lambda1 = \", lambda1)\n",
    "print(\"lambda2 = \", lambda2)\n",
    "print(\"lambda3 = \", lambda3)\n",
    "print(\"lambda4 = \", lambda4)\n"
   ]
  }
 ],
 "metadata": {
  "kernelspec": {
   "display_name": "Python 3",
   "language": "python",
   "name": "python3"
  },
  "language_info": {
   "codemirror_mode": {
    "name": "ipython",
    "version": 3
   },
   "file_extension": ".py",
   "mimetype": "text/x-python",
   "name": "python",
   "nbconvert_exporter": "python",
   "pygments_lexer": "ipython3",
   "version": "3.10.0"
  },
  "orig_nbformat": 4
 },
 "nbformat": 4,
 "nbformat_minor": 2
}
