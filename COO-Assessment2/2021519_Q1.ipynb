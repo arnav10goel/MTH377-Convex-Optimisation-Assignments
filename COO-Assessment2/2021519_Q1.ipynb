{
 "cells": [
  {
   "attachments": {},
   "cell_type": "markdown",
   "metadata": {},
   "source": [
    "### COO Assessment 2 - Question 1\n",
    "\n",
    "- We are given the Prisoner's Dilemma as a Bargaining Problem\n",
    "- The Prisoners’ Dilemma is a famous model for illustrating the conflict between social cooperation and self-interested behavior.\n",
    "- We first import the necessary packages needed for this problem"
   ]
  },
  {
   "cell_type": "code",
   "execution_count": 8,
   "metadata": {},
   "outputs": [],
   "source": [
    "# Import the libraries\n",
    "import cvxpy as cp\n",
    "import numpy as np\n",
    "import pandas as pd\n",
    "import matplotlib.pyplot as plt"
   ]
  },
  {
   "attachments": {},
   "cell_type": "markdown",
   "metadata": {},
   "source": [
    "- Consider a two player Prisoners’ Dilemma.\n",
    "- The cooperative payoff possibilities are mathematically described by a polytope which is defined\n",
    "as the convex hull of the payoff vectors (4,4), (6,0), (0,6) and (0,0).\n",
    "- We plot this convex hull for the problem below"
   ]
  },
  {
   "cell_type": "code",
   "execution_count": 9,
   "metadata": {},
   "outputs": [
    {
     "data": {
      "image/png": "[encoded data removed]",
      "text/plain": [
       "<Figure size 432x288 with 1 Axes>"
      ]
     },
     "metadata": {
      "needs_background": "light"
     },
     "output_type": "display_data"
    }
   ],
   "source": [
    "# We are going to model the Prisoner's Dilemma game using CVXPY\n",
    "# The game is played between two players, A and B\n",
    "# We are given that cooperative payoff possibilities are mathematically described by a polytope which is defined as the convex hull of the payoff vectors (4,4), (6,0), (0,6) and (0,0).\n",
    "\n",
    "# Define the payoff vectors\n",
    "payoff_vectors = np.array([[4,4],[6,0],[0,6],[0,0]])\n",
    "\n",
    "# Define the convex hull of the payoff vectors\n",
    "convex_hull = np.array([[0,0],[0,6],[4,4],[6,0]])\n",
    "\n",
    "# Plot the payoff vectors and the convex hull\n",
    "plt.plot(payoff_vectors[:,0], payoff_vectors[:,1], 'o')\n",
    "plt.plot(convex_hull[:,0], convex_hull[:,1], 'r-')\n",
    "plt.xlabel('Player A payoff')\n",
    "plt.ylabel('Player B payoff')\n",
    "plt.title('Convex Hull of the Payoff Vectors')\n",
    "plt.show()"
   ]
  },
  {
   "attachments": {},
   "cell_type": "markdown",
   "metadata": {},
   "source": [
    "- We think of the Prisoner's Dilemma as a Bargaining situation with the disagreement point as $d = (d_1, d_2)$\n",
    "\n",
    "- The notion of a disagreement point introduces a constraint that player $i$ cannot get a payoff below her disagreement point payoff $d_i$\n",
    "\n",
    "- Upon modelling this situation given to us, we are presented with the following constraints:\n",
    "$$\n",
    "u_1 + 2u_2 \\leq 12\n",
    "$$\n",
    "$$\n",
    "u_2 + 2u_1 \\leq 12\n",
    "$$\n",
    "$$\n",
    "u_1 \\geq d_1\n",
    "$$\n",
    "$$\n",
    "u_2 \\geq d_2\n",
    "$$\n",
    "\n",
    "- where $(u_1, u_2)$ is the payoff vectors for the two players in the bargaining situation.\n",
    "- The constraints given above define the feasible set ($F$) for our constrained optimisation problem which we are going to solve in the forthcoming questions."
   ]
  },
  {
   "attachments": {},
   "cell_type": "markdown",
   "metadata": {},
   "source": [
    "#### Question 1\n",
    "\n",
    "- In this question, keeping the feasible set the same we need to maximise the Weighted Utilitarian Criterion function given by:\n",
    "$$\n",
    "W(u_1, u_2) = \\theta u_1 + (1-\\theta)u_2  \n",
    "$$\n",
    "$$\n",
    "where \\space \\theta \\in [0,1]\n",
    "$$\n",
    "- The weighted utilitarian solution (i.e. our Objective Function) is given by:\n",
    "$$\n",
    "\\max_{(u_1, u_2)} W(u_1, u_2)\n",
    "$$\n",
    "$$\n",
    "such \\space that \\space (u_1, u_2) \\in F\n",
    "$$\n",
    "\n",
    "- The disagreement point given to us is:\n",
    "$$\n",
    "(d_1, d_2) = (3.5, 2)\n",
    "$$"
   ]
  },
  {
   "attachments": {},
   "cell_type": "markdown",
   "metadata": {},
   "source": [
    "- First we use the CVXPY library to define the variables $u_1$ and $u_2$"
   ]
  },
  {
   "cell_type": "code",
   "execution_count": 10,
   "metadata": {},
   "outputs": [],
   "source": [
    "# Define the variables\n",
    "u1 = cp.Variable()\n",
    "u2 = cp.Variable()"
   ]
  },
  {
   "attachments": {},
   "cell_type": "markdown",
   "metadata": {},
   "source": [
    "- Next we define the feasible set by adding the constraints to a list"
   ]
  },
  {
   "cell_type": "code",
   "execution_count": 11,
   "metadata": {},
   "outputs": [],
   "source": [
    "# Feasible set for payoff vectors (u1, u2) for the problem is given as the inequalities:\n",
    "# u1 + 2u2 <= 12\n",
    "# 2u1 + u2 <= 12\n",
    "# u1 >= d1, u2 >= d2\n",
    "# where d1 and d2 are the minimum payoffs for each player d = (d1, d2) is the disagreement point\n",
    "# d = (3.5, 2) is the disagreement point given in the problem to us\n",
    "\n",
    "# Define the constraints\n",
    "constraints = [u1 + 2*u2 <= 12, 2*u1 + u2 <= 12, u1 >= 3.5, u2 >= 2]"
   ]
  },
  {
   "attachments": {},
   "cell_type": "markdown",
   "metadata": {},
   "source": [
    "- Next we define the Weighted Utilitarian Criterion function given by:\n",
    "$$\n",
    "W(u_1, u_2) = \\theta u_1 + (1-\\theta)u_2  \n",
    "$$\n",
    "$$\n",
    "where \\space \\theta \\in [0,1]\n",
    "$$\n",
    "\n",
    "- We set the value of $\\theta$ as non-negative as it lies between 0 and 1."
   ]
  },
  {
   "cell_type": "code",
   "execution_count": 12,
   "metadata": {},
   "outputs": [],
   "source": [
    "# The weighted utilarian criterion is given as:\n",
    "# W(u1, u2) = theta*u1 + (1-theta)*u2 where theta is in [0,1]\n",
    "# We need to maximize the weighted utilarian criterion\n",
    "\n",
    "# Define the weighted utilarian criterion\n",
    "theta = cp.Parameter(nonneg=True)\n",
    "weighted_utilarian_criterion = theta*u1 + (1-theta)*u2"
   ]
  },
  {
   "attachments": {},
   "cell_type": "markdown",
   "metadata": {},
   "source": [
    "- We define our objective function as:\n",
    "$$\n",
    "\\max_{(u_1, u_2)} W(u_1, u_2)\n",
    "$$\n",
    "$$\n",
    "such \\space that \\space (u_1, u_2) \\in F\n",
    "$$"
   ]
  },
  {
   "cell_type": "code",
   "execution_count": 13,
   "metadata": {},
   "outputs": [],
   "source": [
    "# Define the objective function\n",
    "objective = cp.Maximize(weighted_utilarian_criterion)\n",
    "\n",
    "# Define the problem\n",
    "problem = cp.Problem(objective, constraints)"
   ]
  },
  {
   "attachments": {},
   "cell_type": "markdown",
   "metadata": {},
   "source": [
    "- In this question, we are required to plot Player 1's utilitarian optimum $u_{1}(\\theta)$ as the value of $\\theta$ varies $\\in [0, 1]$\n",
    "\n",
    "- We define a range of theta and solve the above constructed above for each value of $\\theta$ between 0 and 1.\n",
    "- We store the corresponding values of $u_1$ and $u_2$ in a list.\n",
    "- We then simply plot the variation of $u_{1}(\\theta)$  with $\\theta$ in the plot below"
   ]
  },
  {
   "cell_type": "code",
   "execution_count": 14,
   "metadata": {},
   "outputs": [
    {
     "data": {
      "image/png": "[encoded data removed]",
      "text/plain": [
       "<Figure size 432x288 with 1 Axes>"
      ]
     },
     "metadata": {
      "needs_background": "light"
     },
     "output_type": "display_data"
    }
   ],
   "source": [
    "# Define the range of theta\n",
    "theta_range = np.linspace(0,1,1000)\n",
    "\n",
    "# Define the feasible set\n",
    "feasible_set = np.zeros((len(theta_range),2))\n",
    "\n",
    "# Solve the problem for each value of theta\n",
    "for i in range(len(theta_range)):\n",
    "    theta.value = theta_range[i]\n",
    "    problem.solve()\n",
    "    feasible_set[i,0] = u1.value\n",
    "    feasible_set[i,1] = u2.value\n",
    "\n",
    "# Plot Player A's utilarian optimum u1(theta) as theta varies from 0 to 1\n",
    "plt.plot(theta_range, feasible_set[:,0])\n",
    "plt.xlabel('θ')\n",
    "plt.ylabel('u1(θ)')\n",
    "plt.title('Variation in Player A\\'s utilarian optimum u1(θ) as θ varies from 0 to 1')\n",
    "plt.show()\n"
   ]
  }
 ],
 "metadata": {
  "kernelspec": {
   "display_name": "Python 3",
   "language": "python",
   "name": "python3"
  },
  "language_info": {
   "codemirror_mode": {
    "name": "ipython",
    "version": 3
   },
   "file_extension": ".py",
   "mimetype": "text/x-python",
   "name": "python",
   "nbconvert_exporter": "python",
   "pygments_lexer": "ipython3",
   "version": "3.10.0"
  },
  "orig_nbformat": 4
 },
 "nbformat": 4,
 "nbformat_minor": 2
}
