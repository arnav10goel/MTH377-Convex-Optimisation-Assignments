{
 "cells": [
  {
   "attachments": {},
   "cell_type": "markdown",
   "metadata": {},
   "source": [
    "### COO Assessment 2 - Question 2\n",
    "\n",
    "- We are given the Prisoner's Dilemma as a Bargaining Problem\n",
    "- The Prisoners’ Dilemma is a famous model for illustrating the conflict between social cooperation and self-interested behavior.\n",
    "- We first import the necessary packages needed for this problem"
   ]
  },
  {
   "cell_type": "code",
   "execution_count": 12,
   "metadata": {},
   "outputs": [],
   "source": [
    "# Import the libraries\n",
    "import cvxpy as cp\n",
    "import numpy as np\n",
    "import matplotlib.pyplot as plt"
   ]
  },
  {
   "attachments": {},
   "cell_type": "markdown",
   "metadata": {},
   "source": [
    "- Consider a two player Prisoners’ Dilemma.\n",
    "- The cooperative payoff possibilities are mathematically described by a polytope which is defined\n",
    "as the convex hull of the payoff vectors (4,4), (6,0), (0,6) and (0,0).\n",
    "- We plot this convex hull for the problem below"
   ]
  },
  {
   "cell_type": "code",
   "execution_count": 13,
   "metadata": {},
   "outputs": [
    {
     "data": {
      "image/png": "[encoded data removed]",
      "text/plain": [
       "<Figure size 432x288 with 1 Axes>"
      ]
     },
     "metadata": {
      "needs_background": "light"
     },
     "output_type": "display_data"
    }
   ],
   "source": [
    "# We are going to model the Prisoner's Dilemma game using CVXPY\n",
    "# The game is played between two players, A and B\n",
    "# We are given that cooperative payoff possibilities are mathematically described by a polytope which is defined as the convex hull of the payoff vectors (4,4), (6,0), (0,6) and (0,0).\n",
    "\n",
    "# Define the payoff vectors\n",
    "payoff_vectors = np.array([[4,4],[6,0],[0,6],[0,0]])\n",
    "\n",
    "# Define the convex hull of the payoff vectors\n",
    "convex_hull = np.array([[0,0],[0,6],[4,4],[6,0]])\n",
    "\n",
    "# Plot the payoff vectors and the convex hull\n",
    "plt.plot(payoff_vectors[:,0], payoff_vectors[:,1], 'o')\n",
    "plt.plot(convex_hull[:,0], convex_hull[:,1], 'r-')\n",
    "plt.xlabel('Player A payoff')\n",
    "plt.ylabel('Player B payoff')\n",
    "plt.title('Convex Hull of the Payoff Vectors')\n",
    "plt.show()"
   ]
  },
  {
   "attachments": {},
   "cell_type": "markdown",
   "metadata": {},
   "source": [
    "- We think of the Prisoner's Dilemma as a Bargaining situation with the disagreement point as $d = (d_1, d_2)$\n",
    "\n",
    "- The notion of a disagreement point introduces a constraint that player $i$ cannot get a payoff below her disagreement point payoff $d_i$\n",
    "\n",
    "- Upon modelling this situation given to us, we are presented with the following constraints:\n",
    "$$\n",
    "u_1 + 2u_2 \\leq 12\n",
    "$$\n",
    "$$\n",
    "u_2 + 2u_1 \\leq 12\n",
    "$$\n",
    "$$\n",
    "u_1 \\geq d_1\n",
    "$$\n",
    "$$\n",
    "u_2 \\geq d_2\n",
    "$$\n",
    "\n",
    "- where $(u_1, u_2)$ is the payoff vectors for the two players in the bargaining situation.\n",
    "- The constraints given above define the feasible set ($F$) for our constrained optimisation problem which we are going to solve in the forthcoming questions."
   ]
  },
  {
   "attachments": {},
   "cell_type": "markdown",
   "metadata": {},
   "source": [
    "#### Question 2\n",
    "\n",
    "- In this question, keeping the feasible set the same we need to maximise the Nash Welfare Criterion defined as:\n",
    "$$\n",
    "N(u_1, u_2) = \\log(u_1-d_1) + \\log(u_2-d_2) \n",
    "$$\n",
    "\n",
    "- The Nash Bargaining Solution of the Bargaining Problem (i.e. our Objective Function) is given by:\n",
    "$$\n",
    "\\max_{(u_1, u_2)} N(u_1, u_2)\n",
    "$$\n",
    "$$\n",
    "such \\space that \\space (u_1, u_2) \\in F\n",
    "$$\n",
    "\n",
    "- The disagreement point given to us is:\n",
    "$$\n",
    "(d_1, d_2) = (3.5, 2)\n",
    "$$"
   ]
  },
  {
   "attachments": {},
   "cell_type": "markdown",
   "metadata": {},
   "source": [
    "### Part A"
   ]
  },
  {
   "attachments": {},
   "cell_type": "markdown",
   "metadata": {},
   "source": [
    "- First we use the CVXPY library to define the variables $u_1$ and $u_2$"
   ]
  },
  {
   "cell_type": "code",
   "execution_count": 14,
   "metadata": {},
   "outputs": [],
   "source": [
    "# Define the variables\n",
    "u1 = cp.Variable()\n",
    "u2 = cp.Variable()"
   ]
  },
  {
   "attachments": {},
   "cell_type": "markdown",
   "metadata": {},
   "source": [
    "- Next we define the feasible set by adding the constraints to a list"
   ]
  },
  {
   "cell_type": "code",
   "execution_count": 15,
   "metadata": {},
   "outputs": [],
   "source": [
    "# Feasible set for payoff vectors (u1, u2) for the problem is given as the inequalities:\n",
    "# u1 + 2u2 <= 12\n",
    "# 2u1 + u2 <= 12\n",
    "# u1 > d1, u2 > d2\n",
    "# where d1 and d2 are the minimum payoffs for each player d = (d1, d2) is the disagreement point\n",
    "# d = (3.5, 2) is the disagreement point given in the problem to us\n",
    "\n",
    "# Define the constraints\n",
    "constraints = [u1 + 2*u2 <= 12, 2*u1 + u2 <= 12, u1 >= 3.5, u2 >= 2]"
   ]
  },
  {
   "attachments": {},
   "cell_type": "markdown",
   "metadata": {},
   "source": [
    "- Next we define the Nash Welfare Criterion as described above:"
   ]
  },
  {
   "cell_type": "code",
   "execution_count": 16,
   "metadata": {},
   "outputs": [],
   "source": [
    "# Nash welfare criterion is defined as N(u1, u2) = log(u1-d1) + log(u2-d2)\n",
    "# We need to maximize the Nash welfare criterion\n",
    "\n",
    "# Define the objective function\n",
    "objective = cp.Maximize(cp.log(u1-3.5) + cp.log(u2-2))"
   ]
  },
  {
   "attachments": {},
   "cell_type": "markdown",
   "metadata": {},
   "source": [
    "- We define our objective function as:\n",
    "$$\n",
    "\\max_{(u_1, u_2)} W(u_1, u_2)\n",
    "$$\n",
    "$$\n",
    "such \\space that \\space (u_1, u_2) \\in F\n",
    "$$\n",
    "\n",
    "- We solve this problem and print the following as required by the question:\n",
    "1. Nash Bargaining Solution ($u_1, u_2$)\n",
    "2. Nash Welfare Criterion (N($u_1, u_2$))\n",
    "3. The Dual Optimal Variables "
   ]
  },
  {
   "cell_type": "code",
   "execution_count": 17,
   "metadata": {},
   "outputs": [
    {
     "name": "stdout",
     "output_type": "stream",
     "text": [
      "The Nash bargaining solution is given by the vector (u1, u2) :\n",
      "u1 = 4.249999934669844\n",
      "u2 = 3.5000001072596256\n",
      "\n"
     ]
    }
   ],
   "source": [
    "# Define the problem\n",
    "problem = cp.Problem(objective, constraints)\n",
    "\n",
    "# Solve the problem\n",
    "problem.solve()\n",
    "\n",
    "# Display the Nash bargaining solution\n",
    "print('The Nash bargaining solution is given by the vector (u1, u2) :' )\n",
    "print('u1 = {}'.format(u1.value))\n",
    "print('u2 = {}'.format(u2.value))\n",
    "print()"
   ]
  },
  {
   "cell_type": "code",
   "execution_count": 18,
   "metadata": {},
   "outputs": [
    {
     "name": "stdout",
     "output_type": "stream",
     "text": [
      "The Nash welfare criterion or the Primal Optimal Value is given by:\n",
      "0.11778302005591901\n",
      "\n"
     ]
    }
   ],
   "source": [
    "# Display the Nash welfare criterion (primal optimal value)\n",
    "print('The Nash welfare criterion or the Primal Optimal Value is given by:')\n",
    "print(problem.value)\n",
    "print()"
   ]
  },
  {
   "cell_type": "code",
   "execution_count": 19,
   "metadata": {},
   "outputs": [
    {
     "name": "stdout",
     "output_type": "stream",
     "text": [
      "The Dual Optimal Variables are: \n",
      "3.6170408140313444e-09\n",
      "0.6666667548200322\n",
      "3.202879721090295e-09\n",
      "1.5363574774749631e-09\n"
     ]
    }
   ],
   "source": [
    "# Display the dual optimal variables\n",
    "print(\"The Dual Optimal Variables are: \")\n",
    "for i in range(len(constraints)):\n",
    "    print(constraints[i].dual_value)"
   ]
  },
  {
   "attachments": {},
   "cell_type": "markdown",
   "metadata": {},
   "source": [
    "### Part B"
   ]
  },
  {
   "attachments": {},
   "cell_type": "markdown",
   "metadata": {},
   "source": [
    "- In this part we fix the disagreement payoff for player 2 at 2 (i.e. $d_2 = 2$)\n",
    "- We define the variables"
   ]
  },
  {
   "cell_type": "code",
   "execution_count": 20,
   "metadata": {},
   "outputs": [],
   "source": [
    "# In this part we fix disagreement payoff of player 2 (d2 = 2)\n",
    "# In same figure we need to plot, how both player payoffs (u1, u2) varies as d1 varies over [2, 5]\n",
    "\n",
    "# Define the variables\n",
    "u1 = cp.Variable()\n",
    "u2 = cp.Variable()"
   ]
  },
  {
   "attachments": {},
   "cell_type": "markdown",
   "metadata": {},
   "source": [
    "- It is given to us in this question that $d_1$ will vary from 2 to 5.\n",
    "- We iterate over all values of $d_1$ fixing $d_2$ as 2 in the constraints.\n",
    "- We solve the problem for each value of $d_1$ and store the corresponding values of $u_1$ and $u_2$ in 2 separate lists.\n",
    "- We use these lists then to plot the variation in the same plot with different colours"
   ]
  },
  {
   "cell_type": "code",
   "execution_count": 21,
   "metadata": {},
   "outputs": [],
   "source": [
    "# Range of disagreement payoff d1\n",
    "d1_val = np.linspace(2, 5, 100)\n",
    "\n",
    "u1_val = []\n",
    "u2_val = []\n",
    "\n",
    "for d1 in d1_val:\n",
    "    # Define the constraints\n",
    "    constraints = [u1 + 2*u2 <= 12, 2*u1 + u2 <= 12, u1 >= d1, u2 >= 2]\n",
    "\n",
    "    # Nash welfare criterion is defined as N(u1, u2) = log(u1-d1) + log(u2-d2)\n",
    "    # We need to maximize the Nash welfare criterion\n",
    "\n",
    "    # Define the objective function\n",
    "    objective = cp.Maximize(cp.log(u1-d1) + cp.log(u2-2))\n",
    "\n",
    "    # Define the problem\n",
    "    problem = cp.Problem(objective, constraints)\n",
    "\n",
    "    # Solve the problem\n",
    "    problem.solve()\n",
    "\n",
    "    # Append the values of u1 and u2 for the corresponding d to their lists\n",
    "    u1_val.append(u1.value)\n",
    "    u2_val.append(u2.value)\n"
   ]
  },
  {
   "attachments": {},
   "cell_type": "markdown",
   "metadata": {},
   "source": [
    "- Plot the variation of $u_1$ and $u_2$ with $d_1$ over [2, 5]"
   ]
  },
  {
   "cell_type": "code",
   "execution_count": 22,
   "metadata": {},
   "outputs": [
    {
     "data": {
      "image/png": "[encoded data removed]",
      "text/plain": [
       "<Figure size 432x288 with 1 Axes>"
      ]
     },
     "metadata": {
      "needs_background": "light"
     },
     "output_type": "display_data"
    }
   ],
   "source": [
    "# Plot in the same figure with x-axis being d1 and y-axis being u1 and u2 with two separate colors\n",
    "plt.plot(d1_val, u1_val, 'r-')\n",
    "plt.plot(d1_val, u2_val, 'b-')\n",
    "plt.xlabel('d1')\n",
    "plt.ylabel('u1 and u2')\n",
    "plt.title('Variation of u1 and u2 with d1')\n",
    "plt.show()"
   ]
  }
 ],
 "metadata": {
  "kernelspec": {
   "display_name": "Python 3",
   "language": "python",
   "name": "python3"
  },
  "language_info": {
   "codemirror_mode": {
    "name": "ipython",
    "version": 3
   },
   "file_extension": ".py",
   "mimetype": "text/x-python",
   "name": "python",
   "nbconvert_exporter": "python",
   "pygments_lexer": "ipython3",
   "version": "3.10.0"
  },
  "orig_nbformat": 4
 },
 "nbformat": 4,
 "nbformat_minor": 2
}
